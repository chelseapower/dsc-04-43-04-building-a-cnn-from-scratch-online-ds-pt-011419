{
 "cells": [
  {
   "cell_type": "markdown",
   "metadata": {},
   "source": [
    "# Building a CNN from Scratch - Lab\n",
    "\n",
    "## Introduction\n",
    "\n",
    "Now that you have background knowledge regarding how CNNs work and how to implement them via Keras, its time to pratice those skills a little more independently in order to build a CNN on your own to solve a image recognition problem. In this lab, you'll practice building an image classifier from start to finish using a CNN.  \n",
    "\n",
    "## Objectives\n",
    "\n",
    "You will be able to:\n",
    "* Transform images into tensors\n",
    "* Build a CNN model for image recognition"
   ]
  },
  {
   "cell_type": "markdown",
   "metadata": {},
   "source": [
    "## Loading the Images\n",
    "\n",
    "The data for this lab concerns classifying lung xray images for pneumonia. The original dataset is from kaggle. We have downsampled this dataset in order to reduce trainging time for you when you design and fit your model to the data. It is anticipated that this process will take approximately 1 hour to run on a standard machine, although times will vary depending on your particular computer and set up. At the end of this lab, you are welcome to try training on the complete dataset and observe the impact on the model's overall accuracy. \n",
    "\n",
    "You can find the initial downsampled dataset in a subdirectory, **chest_xray**, of this repository."
   ]
  },
  {
   "cell_type": "code",
   "execution_count": 1,
   "metadata": {},
   "outputs": [
    {
     "name": "stderr",
     "output_type": "stream",
     "text": [
      "Using TensorFlow backend.\n"
     ]
    }
   ],
   "source": [
    "#load the images; be sure to also preprocess these into tensors.\n",
    "from keras.preprocessing.image import ImageDataGenerator\n",
    "import datetime\n",
    "\n",
    "original_start = datetime.datetime.now()\n",
    "start = datetime.datetime.now()"
   ]
  },
  {
   "cell_type": "code",
   "execution_count": 3,
   "metadata": {},
   "outputs": [
    {
     "name": "stdout",
     "output_type": "stream",
     "text": [
      "Found 1738 images belonging to 2 classes.\n",
      "Found 4 images belonging to 2 classes.\n"
     ]
    }
   ],
   "source": [
    "train_dir = 'chest_xray_downsampled/train'\n",
    "validation_dir = 'chest_xray_downsampled/val/'\n",
    "test_dir = 'chest_xray_downsampled/test/'\n",
    "\n",
    "# All images will be rescaled by 1./255\n",
    "train_datagen = ImageDataGenerator(rescale=1./255)\n",
    "test_datagen = ImageDataGenerator(rescale=1./255)\n",
    "\n",
    "train_generator = train_datagen.flow_from_directory(\n",
    "        # This is the target directory\n",
    "        train_dir,\n",
    "        # All images will be resized to 150x150\n",
    "        target_size=(150, 150),\n",
    "        batch_size=20,\n",
    "        # Since we use binary_crossentropy loss, we need binary labels\n",
    "        class_mode='binary')\n",
    "\n",
    "validation_generator = test_datagen.flow_from_directory(\n",
    "        validation_dir,\n",
    "        target_size=(150, 150),\n",
    "        batch_size=20,\n",
    "        class_mode='binary')"
   ]
  },
  {
   "cell_type": "markdown",
   "metadata": {},
   "source": [
    "## Designing the Model\n",
    "\n",
    "Now it's time to design your CNN! Remember a few things when doing this: \n",
    "* You should alternate convolutional and pooling layers\n",
    "* You should have later layers have a larger number of parameters in order to detect more abstract patterns\n",
    "* Add some final dense layers to add a classifier to the convolutional base"
   ]
  },
  {
   "cell_type": "code",
   "execution_count": 4,
   "metadata": {},
   "outputs": [],
   "source": [
    "#design and compile the model\n",
    "from keras import layers\n",
    "from keras import models\n",
    "\n",
    "model = models.Sequential()\n",
    "model.add(layers.Conv2D(32, (3, 3), activation='relu',\n",
    "                        input_shape=(150, 150, 3)))\n",
    "model.add(layers.MaxPooling2D((2, 2)))\n",
    "model.add(layers.Conv2D(64, (3, 3), activation='relu'))\n",
    "model.add(layers.MaxPooling2D((2, 2)))\n",
    "model.add(layers.Conv2D(128, (3, 3), activation='relu'))\n",
    "model.add(layers.MaxPooling2D((2, 2)))\n",
    "model.add(layers.Conv2D(128, (3, 3), activation='relu'))\n",
    "model.add(layers.MaxPooling2D((2, 2)))\n",
    "model.add(layers.Flatten())\n",
    "model.add(layers.Dense(512, activation='relu'))\n",
    "model.add(layers.Dense(1, activation='sigmoid'))"
   ]
  },
  {
   "cell_type": "code",
   "execution_count": 5,
   "metadata": {},
   "outputs": [],
   "source": [
    "from keras import optimizers\n",
    "\n",
    "model.compile(loss='binary_crossentropy',\n",
    "              optimizer=optimizers.RMSprop(lr=1e-4),\n",
    "              metrics=['acc'])"
   ]
  },
  {
   "cell_type": "markdown",
   "metadata": {},
   "source": [
    "## Training and Evaluating the Model\n",
    "\n",
    "Remember that training deep networks is resource intensive: depending on the size of the data, even a CNN with 3-4 successive convolutional and pooling layers is apt to take a hours to train on a high end laptop. Using 30 epochs and 8 layers (alternating between convolutional and pooling), our model took about 40 minutes to run on a year old macbook pro.\n",
    "\n",
    "\n",
    "If you are concerned with runtime, you may want to set your model to run the training epochs overnight.  \n",
    "\n",
    "**If you are going to run this process overnight, be sure to also script code for the following questions concerning data augmentation. Check your code twice (or more) and then set the notebook to run all, or something equivalent to have them train overnight.**"
   ]
  },
  {
   "cell_type": "code",
   "execution_count": 6,
   "metadata": {},
   "outputs": [
    {
     "name": "stdout",
     "output_type": "stream",
     "text": [
      "Epoch 1/30\n",
      "100/100 [==============================] - 45s 450ms/step - loss: 0.4927 - acc: 0.7733 - val_loss: 0.6734 - val_acc: 0.5000\n",
      "Epoch 2/30\n",
      "100/100 [==============================] - 45s 451ms/step - loss: 0.2863 - acc: 0.8805 - val_loss: 0.8132 - val_acc: 0.7500\n",
      "Epoch 3/30\n",
      "100/100 [==============================] - 45s 446ms/step - loss: 0.1933 - acc: 0.9230 - val_loss: 1.7358 - val_acc: 0.5000\n",
      "Epoch 4/30\n",
      "100/100 [==============================] - 46s 460ms/step - loss: 0.1464 - acc: 0.9408 - val_loss: 1.2645 - val_acc: 0.5000\n",
      "Epoch 5/30\n",
      "100/100 [==============================] - 43s 432ms/step - loss: 0.1255 - acc: 0.9534 - val_loss: 1.2426 - val_acc: 0.7500\n",
      "Epoch 6/30\n",
      "100/100 [==============================] - 43s 427ms/step - loss: 0.1057 - acc: 0.9575 - val_loss: 1.0482 - val_acc: 0.7500\n",
      "Epoch 7/30\n",
      "100/100 [==============================] - 45s 450ms/step - loss: 0.0891 - acc: 0.9633 - val_loss: 1.8674 - val_acc: 0.5000\n",
      "Epoch 8/30\n",
      "100/100 [==============================] - 44s 435ms/step - loss: 0.0879 - acc: 0.9645 - val_loss: 0.9584 - val_acc: 0.7500\n",
      "Epoch 9/30\n",
      "100/100 [==============================] - 43s 432ms/step - loss: 0.0694 - acc: 0.9730 - val_loss: 1.0803 - val_acc: 0.5000\n",
      "Epoch 10/30\n",
      "100/100 [==============================] - 43s 428ms/step - loss: 0.0688 - acc: 0.9674 - val_loss: 0.6591 - val_acc: 0.7500\n",
      "Epoch 11/30\n",
      "100/100 [==============================] - 44s 436ms/step - loss: 0.0573 - acc: 0.9770 - val_loss: 2.6093 - val_acc: 0.7500\n",
      "Epoch 12/30\n",
      "100/100 [==============================] - 43s 427ms/step - loss: 0.0493 - acc: 0.9805 - val_loss: 1.8915 - val_acc: 0.5000\n",
      "Epoch 13/30\n",
      "100/100 [==============================] - 43s 430ms/step - loss: 0.0488 - acc: 0.9855 - val_loss: 1.6693 - val_acc: 0.5000\n",
      "Epoch 14/30\n",
      "100/100 [==============================] - 44s 436ms/step - loss: 0.0414 - acc: 0.9875 - val_loss: 1.5376 - val_acc: 0.7500\n",
      "Epoch 15/30\n",
      "100/100 [==============================] - 44s 436ms/step - loss: 0.0377 - acc: 0.9875 - val_loss: 1.0230 - val_acc: 0.7500\n",
      "Epoch 16/30\n",
      "100/100 [==============================] - 47s 470ms/step - loss: 0.0307 - acc: 0.9880 - val_loss: 0.9844 - val_acc: 0.7500\n",
      "Epoch 17/30\n",
      "100/100 [==============================] - 42s 423ms/step - loss: 0.0366 - acc: 0.9885 - val_loss: 1.0337 - val_acc: 0.7500\n",
      "Epoch 18/30\n",
      "100/100 [==============================] - 42s 424ms/step - loss: 0.0227 - acc: 0.9920 - val_loss: 2.6432 - val_acc: 0.5000\n",
      "Epoch 19/30\n",
      "100/100 [==============================] - 42s 424ms/step - loss: 0.0264 - acc: 0.9885 - val_loss: 1.6806 - val_acc: 0.5000\n",
      "Epoch 20/30\n",
      "100/100 [==============================] - 42s 419ms/step - loss: 0.0198 - acc: 0.9929 - val_loss: 3.2180 - val_acc: 0.5000\n",
      "Epoch 21/30\n",
      "100/100 [==============================] - 42s 420ms/step - loss: 0.0209 - acc: 0.9920 - val_loss: 2.1462 - val_acc: 0.5000\n",
      "Epoch 22/30\n",
      "100/100 [==============================] - 42s 415ms/step - loss: 0.0162 - acc: 0.9950 - val_loss: 1.0790 - val_acc: 0.7500\n",
      "Epoch 23/30\n",
      "100/100 [==============================] - 41s 415ms/step - loss: 0.0122 - acc: 0.9959 - val_loss: 2.5307 - val_acc: 0.5000\n",
      "Epoch 24/30\n",
      "100/100 [==============================] - 78s 783ms/step - loss: 0.0105 - acc: 0.9965 - val_loss: 4.5278 - val_acc: 0.5000\n",
      "Epoch 25/30\n",
      "100/100 [==============================] - 42s 422ms/step - loss: 0.0077 - acc: 0.9975 - val_loss: 2.1967 - val_acc: 0.5000\n",
      "Epoch 26/30\n",
      "100/100 [==============================] - 42s 423ms/step - loss: 0.0086 - acc: 0.9965 - val_loss: 2.7702 - val_acc: 0.7500\n",
      "Epoch 27/30\n",
      "100/100 [==============================] - 42s 417ms/step - loss: 0.0104 - acc: 0.9975 - val_loss: 4.0670 - val_acc: 0.7500\n",
      "Epoch 28/30\n",
      "100/100 [==============================] - 42s 415ms/step - loss: 0.0075 - acc: 0.9985 - val_loss: 2.2263 - val_acc: 0.7500\n",
      "Epoch 29/30\n",
      "100/100 [==============================] - 42s 415ms/step - loss: 0.0098 - acc: 0.9980 - val_loss: 2.2712 - val_acc: 0.5000\n",
      "Epoch 30/30\n",
      "100/100 [==============================] - 41s 414ms/step - loss: 0.0037 - acc: 0.9990 - val_loss: 2.0472 - val_acc: 0.7500\n"
     ]
    }
   ],
   "source": [
    "#Set the model to train; see warnings above\n",
    "history = model.fit_generator(\n",
    "      train_generator,\n",
    "      steps_per_epoch=100,\n",
    "      epochs=30,\n",
    "      validation_data=validation_generator,\n",
    "      validation_steps=50)"
   ]
  },
  {
   "cell_type": "code",
   "execution_count": 7,
   "metadata": {},
   "outputs": [
    {
     "data": {
      "image/png": "[encoded data removed]",
      "text/plain": [
       "<Figure size 432x288 with 1 Axes>"
      ]
     },
     "metadata": {
      "needs_background": "light"
     },
     "output_type": "display_data"
    },
    {
     "data": {
      "image/png": "[encoded data removed]",
      "text/plain": [
       "<Figure size 432x288 with 1 Axes>"
      ]
     },
     "metadata": {
      "needs_background": "light"
     },
     "output_type": "display_data"
    }
   ],
   "source": [
    "# Plot history\n",
    "import matplotlib.pyplot as plt\n",
    "%matplotlib inline \n",
    "\n",
    "acc = history.history['acc']\n",
    "val_acc = history.history['val_acc']\n",
    "loss = history.history['loss']\n",
    "val_loss = history.history['val_loss']\n",
    "epochs = range(len(acc))\n",
    "plt.plot(epochs, acc, 'bo', label='Training acc')\n",
    "plt.plot(epochs, val_acc, 'b', label='Validation acc')\n",
    "plt.title('Training and validation accuracy')\n",
    "plt.legend()\n",
    "plt.figure()\n",
    "plt.plot(epochs, loss, 'bo', label='Training loss')\n",
    "plt.plot(epochs, val_loss, 'b', label='Validation loss')\n",
    "plt.title('Training and validation loss')\n",
    "plt.legend()\n",
    "plt.show()"
   ]
  },
  {
   "cell_type": "code",
   "execution_count": 8,
   "metadata": {},
   "outputs": [
    {
     "name": "stdout",
     "output_type": "stream",
     "text": [
      "Training took a total of 0:54:51.033146\n"
     ]
    }
   ],
   "source": [
    "end = datetime.datetime.now()\n",
    "elapsed = end - start\n",
    "print('Training took a total of {}'.format(elapsed))"
   ]
  },
  {
   "cell_type": "markdown",
   "metadata": {},
   "source": [
    "## Save the Model"
   ]
  },
  {
   "cell_type": "code",
   "execution_count": 9,
   "metadata": {},
   "outputs": [],
   "source": [
    "#save the model for future reference.\n",
    "model.save('chest_xray_downsampled_data.h5')"
   ]
  },
  {
   "cell_type": "markdown",
   "metadata": {},
   "source": [
    "## Data Augmentation\n",
    "\n",
    "Recall that data augmentation is typically always a necessary step when using a small dataset as this one which you have been provided. As such, if you haven't already, implement a data augmentation setup.\n",
    "\n",
    "**Warning: This process took nearly 4 hours to run on a relatively new macbook pro. As such, it is recommended that you simply code the setup and compare to the solution branch, or set the process to run overnight if you do choose to actually run the code.**"
   ]
  },
  {
   "cell_type": "code",
   "execution_count": 10,
   "metadata": {},
   "outputs": [],
   "source": [
    "#Add data augmentation to the model setup and set the model to train; \n",
    "#See warnings above if you intend to run this block of code\n",
    "start = datetime.datetime.now()"
   ]
  },
  {
   "cell_type": "code",
   "execution_count": 11,
   "metadata": {},
   "outputs": [
    {
     "name": "stdout",
     "output_type": "stream",
     "text": [
      "Found 1738 images belonging to 2 classes.\n",
      "Found 4 images belonging to 2 classes.\n",
      "Epoch 1/100\n",
      "100/100 [==============================] - 75s 750ms/step - loss: 3.8095 - acc: 0.7608 - val_loss: 0.3187 - val_acc: 0.7500\n",
      "Epoch 2/100\n",
      "100/100 [==============================] - 72s 720ms/step - loss: 3.7504 - acc: 0.7648 - val_loss: 0.0189 - val_acc: 1.0000\n",
      "Epoch 3/100\n",
      "100/100 [==============================] - 71s 706ms/step - loss: 3.7219 - acc: 0.7665 - val_loss: 0.0156 - val_acc: 1.0000\n",
      "Epoch 4/100\n",
      "100/100 [==============================] - 71s 713ms/step - loss: 4.4475 - acc: 0.7218 - val_loss: 0.1573 - val_acc: 1.0000\n",
      "Epoch 5/100\n",
      "100/100 [==============================] - 72s 724ms/step - loss: 3.8614 - acc: 0.7573 - val_loss: 2.1609 - val_acc: 0.5000\n",
      "Epoch 6/100\n",
      "100/100 [==============================] - 75s 749ms/step - loss: 3.8371 - acc: 0.7595 - val_loss: 7.0368 - val_acc: 0.5000\n",
      "Epoch 7/100\n",
      "100/100 [==============================] - 72s 720ms/step - loss: 3.9832 - acc: 0.7501 - val_loss: 4.2255 - val_acc: 0.5000\n",
      "Epoch 8/100\n",
      "100/100 [==============================] - 72s 720ms/step - loss: 3.9103 - acc: 0.7548 - val_loss: 4.2255 - val_acc: 0.5000\n",
      "Epoch 9/100\n",
      "100/100 [==============================] - 72s 719ms/step - loss: 3.9401 - acc: 0.7529 - val_loss: 4.2255 - val_acc: 0.5000\n",
      "Epoch 10/100\n",
      "100/100 [==============================] - 71s 715ms/step - loss: 3.9164 - acc: 0.7544 - val_loss: 4.2255 - val_acc: 0.5000\n",
      "Epoch 11/100\n",
      "100/100 [==============================] - 71s 715ms/step - loss: 3.8613 - acc: 0.7575 - val_loss: 0.1226 - val_acc: 1.0000\n",
      "Epoch 12/100\n",
      "100/100 [==============================] - 72s 715ms/step - loss: 3.8832 - acc: 0.7568 - val_loss: 0.8295 - val_acc: 0.7500\n",
      "Epoch 13/100\n",
      "100/100 [==============================] - 72s 718ms/step - loss: 4.0465 - acc: 0.7461 - val_loss: 5.6748 - val_acc: 0.5000\n",
      "Epoch 14/100\n",
      "100/100 [==============================] - 71s 714ms/step - loss: 4.2700 - acc: 0.7322 - val_loss: 5.6748 - val_acc: 0.5000\n",
      "Epoch 15/100\n",
      "100/100 [==============================] - 71s 714ms/step - loss: 4.0313 - acc: 0.7471 - val_loss: 5.6748 - val_acc: 0.5000\n",
      "Epoch 16/100\n",
      "100/100 [==============================] - 71s 715ms/step - loss: 4.1450 - acc: 0.7400 - val_loss: 5.6748 - val_acc: 0.5000\n",
      "Epoch 17/100\n",
      "100/100 [==============================] - 72s 723ms/step - loss: 4.0155 - acc: 0.7481 - val_loss: 5.6748 - val_acc: 0.5000\n",
      "Epoch 18/100\n",
      "100/100 [==============================] - 72s 715ms/step - loss: 4.1361 - acc: 0.7406 - val_loss: 5.6748 - val_acc: 0.5000\n",
      "Epoch 19/100\n",
      "100/100 [==============================] - 71s 713ms/step - loss: 4.0903 - acc: 0.7434 - val_loss: 5.6748 - val_acc: 0.5000\n",
      "Epoch 20/100\n",
      "100/100 [==============================] - 72s 717ms/step - loss: 4.0136 - acc: 0.7483 - val_loss: 5.6748 - val_acc: 0.5000\n",
      "Epoch 21/100\n",
      "100/100 [==============================] - 71s 709ms/step - loss: 3.8442 - acc: 0.7589 - val_loss: 1.6767 - val_acc: 0.7500\n",
      "Epoch 22/100\n",
      "100/100 [==============================] - 72s 720ms/step - loss: 3.8293 - acc: 0.7598 - val_loss: 3.1185 - val_acc: 0.5000\n",
      "Epoch 23/100\n",
      "100/100 [==============================] - 72s 719ms/step - loss: 3.6449 - acc: 0.7715 - val_loss: 0.5032 - val_acc: 0.7500\n",
      "Epoch 24/100\n",
      "100/100 [==============================] - 74s 745ms/step - loss: 3.9721 - acc: 0.7515 - val_loss: 2.7403 - val_acc: 0.7500\n",
      "Epoch 25/100\n",
      "100/100 [==============================] - 71s 713ms/step - loss: 3.8890 - acc: 0.7562 - val_loss: 1.9049 - val_acc: 0.5000\n",
      "Epoch 26/100\n",
      "100/100 [==============================] - 73s 729ms/step - loss: 3.8279 - acc: 0.7599 - val_loss: 1.9049 - val_acc: 0.5000\n",
      "Epoch 27/100\n",
      "100/100 [==============================] - 72s 717ms/step - loss: 3.9347 - acc: 0.7532 - val_loss: 6.2014 - val_acc: 0.5000\n",
      "Epoch 28/100\n",
      "100/100 [==============================] - 71s 712ms/step - loss: 4.0088 - acc: 0.7485 - val_loss: 6.2014 - val_acc: 0.5000\n",
      "Epoch 29/100\n",
      "100/100 [==============================] - 71s 710ms/step - loss: 3.9899 - acc: 0.7496 - val_loss: 0.0361 - val_acc: 1.0000\n",
      "Epoch 30/100\n",
      "100/100 [==============================] - 72s 722ms/step - loss: 3.7375 - acc: 0.7652 - val_loss: 4.0783 - val_acc: 0.5000\n",
      "Epoch 31/100\n",
      "100/100 [==============================] - 71s 711ms/step - loss: 3.8954 - acc: 0.7558 - val_loss: 4.0783 - val_acc: 0.5000\n",
      "Epoch 32/100\n",
      "100/100 [==============================] - 71s 715ms/step - loss: 3.8409 - acc: 0.7592 - val_loss: 4.1546 - val_acc: 0.5000\n",
      "Epoch 33/100\n",
      "100/100 [==============================] - 71s 713ms/step - loss: 4.0024 - acc: 0.7490 - val_loss: 6.8519 - val_acc: 0.5000\n",
      "Epoch 34/100\n",
      "100/100 [==============================] - 72s 720ms/step - loss: 3.9687 - acc: 0.7511 - val_loss: 6.8519 - val_acc: 0.5000\n",
      "Epoch 35/100\n",
      "100/100 [==============================] - 4216s 42s/step - loss: 4.1342 - acc: 0.7407 - val_loss: 6.8519 - val_acc: 0.5000\n",
      "Epoch 36/100\n",
      "100/100 [==============================] - 254s 3s/step - loss: 3.9391 - acc: 0.7529 - val_loss: 6.8519 - val_acc: 0.5000\n",
      "Epoch 37/100\n",
      "100/100 [==============================] - 73s 726ms/step - loss: 3.9672 - acc: 0.7513 - val_loss: 0.0320 - val_acc: 1.0000\n",
      "Epoch 38/100\n",
      "100/100 [==============================] - 71s 715ms/step - loss: 3.8757 - acc: 0.7571 - val_loss: 4.9847 - val_acc: 0.5000\n",
      "Epoch 39/100\n",
      "100/100 [==============================] - 72s 715ms/step - loss: 3.9263 - acc: 0.7535 - val_loss: 7.9712 - val_acc: 0.5000\n",
      "Epoch 40/100\n",
      "100/100 [==============================] - 72s 719ms/step - loss: 4.1173 - acc: 0.7417 - val_loss: 7.9712 - val_acc: 0.5000\n",
      "Epoch 41/100\n",
      "100/100 [==============================] - 71s 708ms/step - loss: 3.9829 - acc: 0.7502 - val_loss: 7.9712 - val_acc: 0.5000\n",
      "Epoch 42/100\n",
      "100/100 [==============================] - 72s 720ms/step - loss: 4.0075 - acc: 0.7486 - val_loss: 7.9712 - val_acc: 0.5000\n",
      "Epoch 43/100\n",
      "100/100 [==============================] - 72s 718ms/step - loss: 4.0909 - acc: 0.7430 - val_loss: 7.9712 - val_acc: 0.5000\n",
      "Epoch 44/100\n",
      "100/100 [==============================] - 72s 716ms/step - loss: 4.0654 - acc: 0.7450 - val_loss: 7.9712 - val_acc: 0.5000\n",
      "Epoch 45/100\n",
      "100/100 [==============================] - 9143s 91s/step - loss: 4.0696 - acc: 0.7447 - val_loss: 7.9712 - val_acc: 0.5000\n",
      "Epoch 46/100\n",
      "100/100 [==============================] - 13168s 132s/step - loss: 4.0774 - acc: 0.7442 - val_loss: 7.9712 - val_acc: 0.5000\n",
      "Epoch 47/100\n",
      "100/100 [==============================] - 73s 731ms/step - loss: 4.1328 - acc: 0.7408 - val_loss: 7.9712 - val_acc: 0.5000\n",
      "Epoch 48/100\n",
      "100/100 [==============================] - 72s 716ms/step - loss: 4.1202 - acc: 0.7416 - val_loss: 7.9712 - val_acc: 0.5000\n",
      "Epoch 49/100\n",
      "100/100 [==============================] - 72s 717ms/step - loss: 4.0680 - acc: 0.7448 - val_loss: 7.9712 - val_acc: 0.5000\n",
      "Epoch 50/100\n",
      "100/100 [==============================] - 72s 722ms/step - loss: 4.1211 - acc: 0.7415 - val_loss: 7.9712 - val_acc: 0.5000\n",
      "Epoch 51/100\n",
      "100/100 [==============================] - 72s 716ms/step - loss: 4.1520 - acc: 0.7396 - val_loss: 7.9712 - val_acc: 0.5000\n",
      "Epoch 52/100\n",
      "100/100 [==============================] - 71s 711ms/step - loss: 3.8110 - acc: 0.7608 - val_loss: 7.1127 - val_acc: 0.5000\n",
      "Epoch 53/100\n",
      "100/100 [==============================] - 72s 723ms/step - loss: 4.0146 - acc: 0.7479 - val_loss: 7.9712 - val_acc: 0.5000\n",
      "Epoch 54/100\n",
      "100/100 [==============================] - 72s 721ms/step - loss: 4.0736 - acc: 0.7445 - val_loss: 7.9712 - val_acc: 0.5000\n",
      "Epoch 55/100\n",
      "100/100 [==============================] - 1861s 19s/step - loss: 4.1278 - acc: 0.7411 - val_loss: 7.9712 - val_acc: 0.5000\n",
      "Epoch 56/100\n",
      "100/100 [==============================] - 7432s 74s/step - loss: 4.1025 - acc: 0.7427 - val_loss: 7.9712 - val_acc: 0.5000\n",
      "Epoch 57/100\n",
      "100/100 [==============================] - 132s 1s/step - loss: 4.0495 - acc: 0.7460 - val_loss: 7.9712 - val_acc: 0.5000\n",
      "Epoch 58/100\n",
      "100/100 [==============================] - 133s 1s/step - loss: 4.2324 - acc: 0.7345 - val_loss: 7.9712 - val_acc: 0.5000\n",
      "Epoch 59/100\n",
      "100/100 [==============================] - 133s 1s/step - loss: 3.9876 - acc: 0.7499 - val_loss: 7.9712 - val_acc: 0.5000\n",
      "Epoch 60/100\n"
     ]
    },
    {
     "name": "stdout",
     "output_type": "stream",
     "text": [
      "100/100 [==============================] - 3728s 37s/step - loss: 4.0627 - acc: 0.7452 - val_loss: 7.9712 - val_acc: 0.5000\n",
      "Epoch 61/100\n",
      "100/100 [==============================] - 1422s 14s/step - loss: 4.1228 - acc: 0.7414 - val_loss: 7.9712 - val_acc: 0.5000\n",
      "Epoch 62/100\n",
      "100/100 [==============================] - 72s 722ms/step - loss: 4.0823 - acc: 0.7439 - val_loss: 7.9712 - val_acc: 0.5000\n",
      "Epoch 63/100\n",
      "100/100 [==============================] - 71s 712ms/step - loss: 4.0835 - acc: 0.7439 - val_loss: 7.9712 - val_acc: 0.5000\n",
      "Epoch 64/100\n",
      "100/100 [==============================] - 254s 3s/step - loss: 4.1380 - acc: 0.7404 - val_loss: 7.9712 - val_acc: 0.5000\n",
      "Epoch 65/100\n",
      "100/100 [==============================] - 1828s 18s/step - loss: 4.0524 - acc: 0.7458 - val_loss: 7.9712 - val_acc: 0.5000\n",
      "Epoch 66/100\n",
      "100/100 [==============================] - 132s 1s/step - loss: 4.1192 - acc: 0.7416 - val_loss: 7.9712 - val_acc: 0.5000\n",
      "Epoch 67/100\n",
      "100/100 [==============================] - 133s 1s/step - loss: 4.1342 - acc: 0.7407 - val_loss: 7.9712 - val_acc: 0.5000\n",
      "Epoch 68/100\n",
      "100/100 [==============================] - 134s 1s/step - loss: 4.0328 - acc: 0.7470 - val_loss: 7.9712 - val_acc: 0.5000\n",
      "Epoch 69/100\n",
      "100/100 [==============================] - 134s 1s/step - loss: 4.0334 - acc: 0.7470 - val_loss: 7.9712 - val_acc: 0.5000\n",
      "Epoch 70/100\n",
      "100/100 [==============================] - 134s 1s/step - loss: 4.1700 - acc: 0.7384 - val_loss: 7.9712 - val_acc: 0.5000\n",
      "Epoch 71/100\n",
      "100/100 [==============================] - 134s 1s/step - loss: 4.0504 - acc: 0.7459 - val_loss: 7.9712 - val_acc: 0.5000\n",
      "Epoch 72/100\n",
      "100/100 [==============================] - 134s 1s/step - loss: 4.1433 - acc: 0.7401 - val_loss: 7.9712 - val_acc: 0.5000\n",
      "Epoch 73/100\n",
      "100/100 [==============================] - 136s 1s/step - loss: 4.0753 - acc: 0.7444 - val_loss: 7.9712 - val_acc: 0.5000\n",
      "Epoch 74/100\n",
      "100/100 [==============================] - 134s 1s/step - loss: 4.0662 - acc: 0.7449 - val_loss: 7.9712 - val_acc: 0.5000\n",
      "Epoch 75/100\n",
      "100/100 [==============================] - 136s 1s/step - loss: 4.1131 - acc: 0.7420 - val_loss: 7.9712 - val_acc: 0.5000\n",
      "Epoch 76/100\n",
      "100/100 [==============================] - 193s 2s/step - loss: 4.0715 - acc: 0.7446 - val_loss: 7.9712 - val_acc: 0.5000\n",
      "Epoch 77/100\n",
      "100/100 [==============================] - 220s 2s/step - loss: 4.1647 - acc: 0.7388 - val_loss: 7.9712 - val_acc: 0.5000\n",
      "Epoch 78/100\n",
      "100/100 [==============================] - 238s 2s/step - loss: 4.0911 - acc: 0.7434 - val_loss: 7.9712 - val_acc: 0.5000\n",
      "Epoch 79/100\n",
      "100/100 [==============================] - 243s 2s/step - loss: 4.0442 - acc: 0.7463 - val_loss: 7.9712 - val_acc: 0.5000\n",
      "Epoch 80/100\n",
      "100/100 [==============================] - 251s 3s/step - loss: 4.2166 - acc: 0.7355 - val_loss: 7.9712 - val_acc: 0.5000\n",
      "Epoch 81/100\n",
      "100/100 [==============================] - 254s 3s/step - loss: 4.0952 - acc: 0.7431 - val_loss: 7.9712 - val_acc: 0.5000\n",
      "Epoch 82/100\n",
      "100/100 [==============================] - 253s 3s/step - loss: 4.0445 - acc: 0.7463 - val_loss: 7.9712 - val_acc: 0.5000\n",
      "Epoch 83/100\n",
      "100/100 [==============================] - 253s 3s/step - loss: 4.1260 - acc: 0.7412 - val_loss: 7.9712 - val_acc: 0.5000\n",
      "Epoch 84/100\n",
      "100/100 [==============================] - 267s 3s/step - loss: 4.0911 - acc: 0.7434 - val_loss: 7.9712 - val_acc: 0.5000\n",
      "Epoch 85/100\n",
      "100/100 [==============================] - 16436s 164s/step - loss: 4.0823 - acc: 0.7439 - val_loss: 7.9712 - val_acc: 0.5000\n",
      "Epoch 86/100\n",
      "100/100 [==============================] - 6322s 63s/step - loss: 4.2039 - acc: 0.7363 - val_loss: 7.9712 - val_acc: 0.5000\n",
      "Epoch 87/100\n",
      "100/100 [==============================] - 9362s 94s/step - loss: 4.0114 - acc: 0.7484 - val_loss: 7.9712 - val_acc: 0.5000\n",
      "Epoch 88/100\n",
      "100/100 [==============================] - 7797s 78s/step - loss: 4.0817 - acc: 0.7440 - val_loss: 7.9712 - val_acc: 0.5000\n",
      "Epoch 89/100\n",
      "100/100 [==============================] - 128s 1s/step - loss: 4.1597 - acc: 0.7391 - val_loss: 7.9712 - val_acc: 0.5000\n",
      "Epoch 90/100\n",
      "100/100 [==============================] - 76s 761ms/step - loss: 4.0284 - acc: 0.7473 - val_loss: 7.9712 - val_acc: 0.5000\n",
      "Epoch 91/100\n",
      "100/100 [==============================] - 77s 772ms/step - loss: 4.1219 - acc: 0.7415 - val_loss: 7.9712 - val_acc: 0.5000\n",
      "Epoch 92/100\n",
      "100/100 [==============================] - 72s 722ms/step - loss: 4.1720 - acc: 0.7383 - val_loss: 7.9712 - val_acc: 0.5000\n",
      "Epoch 93/100\n",
      "100/100 [==============================] - 72s 718ms/step - loss: 4.0753 - acc: 0.7444 - val_loss: 7.9712 - val_acc: 0.5000\n",
      "Epoch 94/100\n",
      "100/100 [==============================] - 71s 713ms/step - loss: 4.1020 - acc: 0.7427 - val_loss: 7.9712 - val_acc: 0.5000\n",
      "Epoch 95/100\n",
      "100/100 [==============================] - 72s 719ms/step - loss: 4.1149 - acc: 0.7419 - val_loss: 7.9712 - val_acc: 0.5000\n",
      "Epoch 96/100\n",
      "100/100 [==============================] - 71s 707ms/step - loss: 4.0987 - acc: 0.7429 - val_loss: 7.9712 - val_acc: 0.5000\n",
      "Epoch 97/100\n",
      "100/100 [==============================] - 71s 713ms/step - loss: 4.0644 - acc: 0.7451 - val_loss: 7.9712 - val_acc: 0.5000\n",
      "Epoch 98/100\n",
      "100/100 [==============================] - 72s 718ms/step - loss: 4.0940 - acc: 0.7432 - val_loss: 7.9712 - val_acc: 0.5000\n",
      "Epoch 99/100\n",
      "100/100 [==============================] - 71s 713ms/step - loss: 4.1260 - acc: 0.7412 - val_loss: 7.9712 - val_acc: 0.5000\n",
      "Epoch 100/100\n",
      "100/100 [==============================] - 304s 3s/step - loss: 4.0662 - acc: 0.7449 - val_loss: 7.9712 - val_acc: 0.5000\n"
     ]
    }
   ],
   "source": [
    "train_datagen = ImageDataGenerator(\n",
    "      rotation_range=40,\n",
    "      width_shift_range=0.2,\n",
    "      height_shift_range=0.2,\n",
    "      shear_range=0.2,\n",
    "      zoom_range=0.2,\n",
    "      horizontal_flip=True,\n",
    "      fill_mode='nearest')\n",
    "\n",
    "test_datagen = ImageDataGenerator(rescale=1./255)\n",
    "\n",
    "train_generator = train_datagen.flow_from_directory(\n",
    "        # This is the target directory\n",
    "        train_dir,\n",
    "        # All images will be resized to 150x150\n",
    "        target_size=(150, 150),\n",
    "        batch_size=32,\n",
    "        # Since we use binary_crossentropy loss, we need binary labels\n",
    "        class_mode='binary')\n",
    "\n",
    "validation_generator = test_datagen.flow_from_directory(\n",
    "        validation_dir,\n",
    "        target_size=(150, 150),\n",
    "        batch_size=32,\n",
    "        class_mode='binary')\n",
    "\n",
    "history = model.fit_generator(\n",
    "      train_generator,\n",
    "      steps_per_epoch=100,\n",
    "      epochs=100,\n",
    "      validation_data=validation_generator,\n",
    "      validation_steps=50)"
   ]
  },
  {
   "cell_type": "code",
   "execution_count": 12,
   "metadata": {},
   "outputs": [
    {
     "data": {
      "image/png": "[encoded data removed]",
      "text/plain": [
       "<Figure size 432x288 with 1 Axes>"
      ]
     },
     "metadata": {
      "needs_background": "light"
     },
     "output_type": "display_data"
    },
    {
     "data": {
      "image/png": "[encoded data removed]",
      "text/plain": [
       "<Figure size 432x288 with 1 Axes>"
      ]
     },
     "metadata": {
      "needs_background": "light"
     },
     "output_type": "display_data"
    }
   ],
   "source": [
    "acc = history.history['acc']\n",
    "val_acc = history.history['val_acc']\n",
    "loss = history.history['loss']\n",
    "val_loss = history.history['val_loss']\n",
    "epochs = range(len(acc))\n",
    "plt.plot(epochs, acc, 'bo', label='Training acc')\n",
    "plt.plot(epochs, val_acc, 'b', label='Validation acc')\n",
    "plt.title('Training and validation accuracy')\n",
    "plt.legend()\n",
    "plt.figure()\n",
    "plt.plot(epochs, loss, 'bo', label='Training loss')\n",
    "plt.plot(epochs, val_loss, 'b', label='Validation loss')\n",
    "plt.title('Training and validation loss')\n",
    "plt.legend()\n",
    "plt.show()"
   ]
  },
  {
   "cell_type": "code",
   "execution_count": 13,
   "metadata": {},
   "outputs": [
    {
     "name": "stdout",
     "output_type": "stream",
     "text": [
      "Training with data augmentation took a total of 1 day, 1:34:43.280123\n"
     ]
    }
   ],
   "source": [
    "end = datetime.datetime.now()\n",
    "elapsed = end - start\n",
    "print('Training with data augmentation took a total of {}'.format(elapsed))"
   ]
  },
  {
   "cell_type": "code",
   "execution_count": 14,
   "metadata": {},
   "outputs": [],
   "source": [
    "model.save('chest_xray_downsampled_with_augmentation_data.h5')"
   ]
  },
  {
   "cell_type": "markdown",
   "metadata": {},
   "source": [
    "## Final Evaluation\n",
    "\n",
    "Now use the test set to perform a final evaluation on your model of choice."
   ]
  },
  {
   "cell_type": "code",
   "execution_count": 15,
   "metadata": {},
   "outputs": [
    {
     "name": "stdout",
     "output_type": "stream",
     "text": [
      "Found 208 images belonging to 2 classes.\n",
      "test acc: 0.6249999978712627\n"
     ]
    }
   ],
   "source": [
    "#perform a final evaluation using the test set..\n",
    "test_generator = test_datagen.flow_from_directory(\n",
    "        test_dir,\n",
    "        target_size=(150, 150),\n",
    "        batch_size=20,\n",
    "        class_mode='binary')\n",
    "test_loss, test_acc = model.evaluate_generator(test_generator, steps=50)\n",
    "print('test acc:', test_acc)"
   ]
  },
  {
   "cell_type": "markdown",
   "metadata": {},
   "source": [
    "## Extension: Adding Data to the Model\n",
    "\n",
    "As discussed, the current dataset we worked with is a subset of a dataset hosted on Kaggle. Increasing the data that we use to train the model will result in additional performance gains but will also result in longer training times and be more resource intensive.   \n",
    "\n",
    "It is estimated that training on the full dataset will take approximately 4 hours (and potentially significantly longer) depending on your computer's specifications.\n",
    "\n",
    "In order to test the impact of training on the full dataset, start by downloading the data from kaggle here: https://www.kaggle.com/paultimothymooney/chest-xray-pneumonia.   "
   ]
  },
  {
   "cell_type": "code",
   "execution_count": null,
   "metadata": {},
   "outputs": [],
   "source": [
    "#Optional extension"
   ]
  },
  {
   "cell_type": "markdown",
   "metadata": {},
   "source": [
    "## Summary\n",
    "\n",
    "Well done! In this lab, you practice building your own CNN for image recognition which drastically outperformed our previous attempts using a standard deep learning model alone. In the upcoming sections, we'll continue to investigate further techniques associated with CNNs including visualizing the representations they learn and techniques to further bolster their performance when we have limited training data such as here."
   ]
  }
 ],
 "metadata": {
  "kernelspec": {
   "display_name": "learn-env",
   "language": "python",
   "name": "learn-env"
  },
  "language_info": {
   "codemirror_mode": {
    "name": "ipython",
    "version": 3
   },
   "file_extension": ".py",
   "mimetype": "text/x-python",
   "name": "python",
   "nbconvert_exporter": "python",
   "pygments_lexer": "ipython3",
   "version": "3.6.6"
  }
 },
 "nbformat": 4,
 "nbformat_minor": 2
}
